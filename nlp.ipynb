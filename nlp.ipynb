{
 "cells": [
  {
   "cell_type": "code",
   "execution_count": 1,
   "metadata": {},
   "outputs": [],
   "source": [
    "import nltk"
   ]
  },
  {
   "cell_type": "code",
   "execution_count": 8,
   "metadata": {},
   "outputs": [
    {
     "name": "stdout",
     "output_type": "stream",
     "text": [
      "Requirement already satisfied: nltk in ./.venv/lib/python3.12/site-packages (3.9.1)\n",
      "Requirement already satisfied: click in ./.venv/lib/python3.12/site-packages (from nltk) (8.1.7)\n",
      "Requirement already satisfied: joblib in ./.venv/lib/python3.12/site-packages (from nltk) (1.4.2)\n",
      "Requirement already satisfied: regex>=2021.8.3 in ./.venv/lib/python3.12/site-packages (from nltk) (2024.9.11)\n",
      "Requirement already satisfied: tqdm in ./.venv/lib/python3.12/site-packages (from nltk) (4.66.5)\n",
      "\n",
      "\u001b[1m[\u001b[0m\u001b[34;49mnotice\u001b[0m\u001b[1;39;49m]\u001b[0m\u001b[39;49m A new release of pip is available: \u001b[0m\u001b[31;49m23.2.1\u001b[0m\u001b[39;49m -> \u001b[0m\u001b[32;49m24.2\u001b[0m\n",
      "\u001b[1m[\u001b[0m\u001b[34;49mnotice\u001b[0m\u001b[1;39;49m]\u001b[0m\u001b[39;49m To update, run: \u001b[0m\u001b[32;49mpip install --upgrade pip\u001b[0m\n",
      "Note: you may need to restart the kernel to use updated packages.\n"
     ]
    }
   ],
   "source": [
    "pip install nltk"
   ]
  },
  {
   "cell_type": "code",
   "execution_count": 2,
   "metadata": {},
   "outputs": [
    {
     "name": "stderr",
     "output_type": "stream",
     "text": [
      "[nltk_data] Downloading package stopwords to\n",
      "[nltk_data]     /home/codespace/nltk_data...\n",
      "[nltk_data]   Package stopwords is already up-to-date!\n"
     ]
    },
    {
     "data": {
      "text/plain": [
       "True"
      ]
     },
     "execution_count": 2,
     "metadata": {},
     "output_type": "execute_result"
    }
   ],
   "source": [
    "nltk.download('stopwords')"
   ]
  },
  {
   "cell_type": "code",
   "execution_count": 3,
   "metadata": {},
   "outputs": [],
   "source": [
    "from nltk.corpus import stopwords\n",
    "from nltk.tokenize import word_tokenize"
   ]
  },
  {
   "cell_type": "code",
   "execution_count": 4,
   "metadata": {},
   "outputs": [
    {
     "name": "stdout",
     "output_type": "stream",
     "text": [
      "{'sentid', 'la', 'estaba', 'seréis', 'estaban', 'sean', 'sentidas', 'ni', 'habremos', 'fueras', 'hubo', 'fueron', 'fuimos', 'vosotros', 'habrán', 'fuiste', 'habías', 'quienes', 'tuvieseis', 'tuvieran', 'eran', 'hubimos', 'tengan', 'tendré', 'estén', 'habíais', 'tenido', 'habíamos', 'teniendo', 'del', 'sí', 'más', 'estuviéramos', 'hubiese', 'fue', 'les', 'algunos', 'suyas', 'sea', 'eras', 'estuviésemos', 'el', 'sin', 'nuestro', 'estarías', 'estuvisteis', 'tuyas', 'estaría', 'fuésemos', 'por', 'todo', 'fuesen', 'fui', 'ese', 'seríais', 'estada', 'tuviesen', 'y', 'contra', 'habían', 'tuviste', 'tuvisteis', 'ellas', 'fuese', 'estuvieron', 'serán', 'vuestros', 'fueses', 'estamos', 'hemos', 'le', 'estuvieses', 'haya', 'tenga', 'hasta', 'vuestro', 'serían', 'estéis', 'yo', 'habrías', 'seríamos', 'estábamos', 'tendríais', 'son', 'tenían', 'su', 'e', 'también', 'hubieran', 'habido', 'seáis', 'estaremos', 'habríamos', 'tendrías', 'teníais', 'cual', 'o', 'mi', 'tienen', 'habríais', 'tendremos', 'hubisteis', 'tus', 'sentido', 'he', 'tendréis', 'él', 'era', 'tendrán', 'habéis', 'nada', 'tú', 'vuestras', 'ha', 'está', 'había', 'sobre', 'has', 'serás', 'estas', 'estados', 'estuviese', 'estado', 'tengáis', 'tenía', 'tuviese', 'somos', 'hayamos', 'tanto', 'pero', 'algunas', 'estuvieran', 'tendría', 'habiendo', 'los', 'hubieras', 'hubiéramos', 'habidos', 'uno', 'tuviera', 'hubiste', 'suya', 'a', 'será', 'estará', 'tened', 'tuvieron', 'tendríamos', 'tuya', 'sois', 'tuviésemos', 'mía', 'fuerais', 'tenías', 'hubiera', 'esté', 'sintiendo', 'mí', 'unos', 'tuvieras', 'mías', 'éramos', 'te', 'qué', 'estabas', 'hayas', 'no', 'hubieron', 'tendrás', 'tu', 'antes', 'eres', 'estarán', 'estarás', 'otras', 'nosotras', 'tuvierais', 'tuyo', 'quien', 'como', 'lo', 'nosotros', 'estadas', 'al', 'suyo', 'que', 'estuviera', 'estuvo', 'hubiesen', 'erais', 'mis', 'hubieses', 'sentida', 'las', 'os', 'tenéis', 'habré', 'estad', 'muchos', 'sentidos', 'tuvimos', 'mío', 'muy', 'soy', 'habrían', 'tendrían', 'desde', 'tengas', 'en', 'hay', 'tuvieses', 'estás', 'ante', 'estos', 'nuestros', 'fueran', 'serías', 'tengo', 'donde', 'estuviesen', 'mucho', 'estando', 'habida', 'estabais', 'estés', 'para', 'teníamos', 'sus', 'seremos', 'seas', 'tuve', 'otros', 'entre', 'un', 'hubierais', 'una', 'siente', 'es', 'me', 'tengamos', 'tenidos', 'otra', 'esas', 'estuvierais', 'seré', 'hubiésemos', 'esa', 'estaréis', 'habrás', 'están', 'de', 'eso', 'habría', 'hube', 'este', 'estáis', 'estaríais', 'tuviéramos', 'suyos', 'estuviste', 'algo', 'poco', 'estuvimos', 'han', 'cuando', 'otro', 'estemos', 'se', 'estaré', 'tiene', 'ella', 'esta', 'ti', 'tendrá', 'estar', 'nos', 'ellos', 'habidas', 'tienes', 'tenida', 'esos', 'habrá', 'nuestras', 'vosotras', 'fuisteis', 'hayan', 'estarían', 'fuéramos', 'tuyos', 'estuvieseis', 'fuera', 'porque', 'durante', 'seamos', 'nuestra', 'esto', 'sería', 'hubieseis', 'míos', 'tenidas', 'hayáis', 'estuvieras', 'tenemos', 'habréis', 'todos', 'con', 'tuvo', 'estuve', 'fueseis', 'estaríamos', 'estoy', 'ya', 'vuestra'}\n"
     ]
    }
   ],
   "source": [
    "stop_words = set(stopwords.words('spanish'))\n",
    "\n",
    "print(stop_words )"
   ]
  },
  {
   "cell_type": "code",
   "execution_count": 5,
   "metadata": {},
   "outputs": [
    {
     "name": "stderr",
     "output_type": "stream",
     "text": [
      "[nltk_data] Downloading package wordnet to\n",
      "[nltk_data]     /home/codespace/nltk_data...\n",
      "[nltk_data]   Package wordnet is already up-to-date!\n"
     ]
    },
    {
     "data": {
      "text/plain": [
       "True"
      ]
     },
     "execution_count": 5,
     "metadata": {},
     "output_type": "execute_result"
    }
   ],
   "source": [
    "nltk.download('wordnet')"
   ]
  },
  {
   "cell_type": "code",
   "execution_count": null,
   "metadata": {},
   "outputs": [],
   "source": []
  },
  {
   "cell_type": "code",
   "execution_count": 6,
   "metadata": {},
   "outputs": [
    {
     "name": "stderr",
     "output_type": "stream",
     "text": [
      "[nltk_data] Downloading package punkt_tab to\n",
      "[nltk_data]     /home/codespace/nltk_data...\n",
      "[nltk_data]   Package punkt_tab is already up-to-date!\n"
     ]
    },
    {
     "data": {
      "text/plain": [
       "True"
      ]
     },
     "execution_count": 6,
     "metadata": {},
     "output_type": "execute_result"
    }
   ],
   "source": [
    "nltk.download('punkt_tab')"
   ]
  },
  {
   "cell_type": "code",
   "execution_count": 7,
   "metadata": {},
   "outputs": [
    {
     "name": "stdout",
     "output_type": "stream",
     "text": [
      "{'sentid', 'la', 'estaba', 'seréis', 'estaban', 'sean', 'sentidas', 'ni', 'habremos', 'fueras', 'hubo', 'fueron', 'fuimos', 'vosotros', 'habrán', 'fuiste', 'habías', 'quienes', 'tuvieseis', 'tuvieran', 'eran', 'hubimos', 'tengan', 'tendré', 'estén', 'habíais', 'tenido', 'habíamos', 'teniendo', 'del', 'sí', 'más', 'estuviéramos', 'hubiese', 'fue', 'les', 'algunos', 'suyas', 'sea', 'eras', 'estuviésemos', 'el', 'sin', 'nuestro', 'estarías', 'estuvisteis', 'tuyas', 'estaría', 'fuésemos', 'por', 'todo', 'fuesen', 'fui', 'ese', 'seríais', 'estada', 'tuviesen', 'y', 'contra', 'habían', 'tuviste', 'tuvisteis', 'ellas', 'fuese', 'estuvieron', 'serán', 'vuestros', 'fueses', 'estamos', 'hemos', 'le', 'estuvieses', 'haya', 'tenga', 'hasta', 'vuestro', 'serían', 'estéis', 'yo', 'habrías', 'seríamos', 'estábamos', 'tendríais', 'son', 'tenían', 'su', 'e', 'también', 'hubieran', 'habido', 'seáis', 'estaremos', 'habríamos', 'tendrías', 'teníais', 'cual', 'o', 'mi', 'tienen', 'habríais', 'tendremos', 'hubisteis', 'tus', 'sentido', 'he', 'tendréis', 'él', 'era', 'tendrán', 'habéis', 'nada', 'tú', 'vuestras', 'ha', 'está', 'había', 'sobre', 'has', 'serás', 'estas', 'estados', 'estuviese', 'estado', 'tengáis', 'tenía', 'tuviese', 'somos', 'hayamos', 'tanto', 'pero', 'algunas', 'estuvieran', 'tendría', 'habiendo', 'los', 'hubieras', 'hubiéramos', 'habidos', 'uno', 'tuviera', 'hubiste', 'suya', 'a', 'será', 'estará', 'tened', 'tuvieron', 'tendríamos', 'tuya', 'sois', 'tuviésemos', 'mía', 'fuerais', 'tenías', 'hubiera', 'esté', 'sintiendo', 'mí', 'unos', 'tuvieras', 'mías', 'éramos', 'te', 'qué', 'estabas', 'hayas', 'no', 'hubieron', 'tendrás', 'tu', 'antes', 'eres', 'estarán', 'estarás', 'otras', 'nosotras', 'tuvierais', 'tuyo', 'quien', 'como', 'lo', 'nosotros', 'estadas', 'al', 'suyo', 'que', 'estuviera', 'estuvo', 'hubiesen', 'erais', 'mis', 'hubieses', 'sentida', 'las', 'os', 'tenéis', 'habré', 'estad', 'muchos', 'sentidos', 'tuvimos', 'mío', 'muy', 'soy', 'habrían', 'tendrían', 'desde', 'tengas', 'en', 'hay', 'tuvieses', 'estás', 'ante', 'estos', 'nuestros', 'fueran', 'serías', 'tengo', 'donde', 'estuviesen', 'mucho', 'estando', 'habida', 'estabais', 'estés', 'para', 'teníamos', 'sus', 'seremos', 'seas', 'tuve', 'otros', 'entre', 'un', 'hubierais', 'una', 'siente', 'es', 'me', 'tengamos', 'tenidos', 'otra', 'esas', 'estuvierais', 'seré', 'hubiésemos', 'esa', 'estaréis', 'habrás', 'están', 'de', 'eso', 'habría', 'hube', 'este', 'estáis', 'estaríais', 'tuviéramos', 'suyos', 'estuviste', 'algo', 'poco', 'estuvimos', 'han', 'cuando', 'otro', 'estemos', 'se', 'estaré', 'tiene', 'ella', 'esta', 'ti', 'tendrá', 'estar', 'nos', 'ellos', 'habidas', 'tienes', 'tenida', 'esos', 'habrá', 'nuestras', 'vosotras', 'fuisteis', 'hayan', 'estarían', 'fuéramos', 'tuyos', 'estuvieseis', 'fuera', 'porque', 'durante', 'seamos', 'nuestra', 'esto', 'sería', 'hubieseis', 'míos', 'tenidas', 'hayáis', 'estuvieras', 'tenemos', 'habréis', 'todos', 'con', 'tuvo', 'estuve', 'fueseis', 'estaríamos', 'estoy', 'ya', 'vuestra'}\n"
     ]
    }
   ],
   "source": [
    "from nltk.corpus import stopwords\n",
    "from nltk.tokenize import word_tokenize\n",
    "\n",
    "texto = \"El gato es negro  y el perro es blanco\"\n",
    "\n",
    "stop_words = set(stopwords.words('spanish'))\n",
    "\n",
    "print(stop_words)\n",
    "\n",
    "\n"
   ]
  },
  {
   "cell_type": "code",
   "execution_count": 8,
   "metadata": {},
   "outputs": [
    {
     "name": "stdout",
     "output_type": "stream",
     "text": [
      "['el', 'gato', 'es', 'negro', 'y', 'el', 'perro', 'es', 'blanco']\n",
      "['gato', 'negro', 'perro', 'blanco']\n"
     ]
    }
   ],
   "source": [
    "texto=texto.lower()\n",
    "\n",
    "tokens = word_tokenize(texto)\n",
    "\n",
    "print(tokens)\n",
    "\n",
    "texto_filtrado=[word for word in tokens if not word in stop_words]\n",
    "\n",
    "print(texto_filtrado)\n",
    "\n",
    "# ('stemming y lematizacion'"
   ]
  },
  {
   "cell_type": "code",
   "execution_count": 9,
   "metadata": {},
   "outputs": [
    {
     "name": "stdout",
     "output_type": "stream",
     "text": [
      "camin\n",
      "camin\n",
      "camin\n"
     ]
    },
    {
     "name": "stderr",
     "output_type": "stream",
     "text": [
      "[nltk_data] Downloading package wordnet to\n",
      "[nltk_data]     /home/codespace/nltk_data...\n",
      "[nltk_data]   Package wordnet is already up-to-date!\n"
     ]
    }
   ],
   "source": [
    "nltk.download('wordnet')\n",
    "\n",
    "from nltk.stem import SnowballStemmer\n",
    "\n",
    "stemmer = SnowballStemmer('spanish')\n",
    "\n",
    "print(stemmer.stem('caminando'))\n",
    "print(stemmer.stem('caminar'))\n",
    "print(stemmer.stem('camino'))\n"
   ]
  },
  {
   "cell_type": "code",
   "execution_count": 30,
   "metadata": {},
   "outputs": [
    {
     "name": "stdout",
     "output_type": "stream",
     "text": [
      "\n",
      "\u001b[1m[\u001b[0m\u001b[34;49mnotice\u001b[0m\u001b[1;39;49m]\u001b[0m\u001b[39;49m A new release of pip is available: \u001b[0m\u001b[31;49m23.2.1\u001b[0m\u001b[39;49m -> \u001b[0m\u001b[32;49m24.2\u001b[0m\n",
      "\u001b[1m[\u001b[0m\u001b[34;49mnotice\u001b[0m\u001b[1;39;49m]\u001b[0m\u001b[39;49m To update, run: \u001b[0m\u001b[32;49mpip install --upgrade pip\u001b[0m\n"
     ]
    }
   ],
   "source": [
    "# lematizacion no hay en spanol\n",
    "\n",
    "!pip install spacy -q"
   ]
  },
  {
   "cell_type": "code",
   "execution_count": 31,
   "metadata": {},
   "outputs": [
    {
     "name": "stdout",
     "output_type": "stream",
     "text": [
      "\n",
      "\u001b[1m[\u001b[0m\u001b[34;49mnotice\u001b[0m\u001b[1;39;49m]\u001b[0m\u001b[39;49m A new release of pip is available: \u001b[0m\u001b[31;49m23.2.1\u001b[0m\u001b[39;49m -> \u001b[0m\u001b[32;49m24.2\u001b[0m\n",
      "\u001b[1m[\u001b[0m\u001b[34;49mnotice\u001b[0m\u001b[1;39;49m]\u001b[0m\u001b[39;49m To update, run: \u001b[0m\u001b[32;49mpip install --upgrade pip\u001b[0m\n",
      "\u001b[38;5;2m✔ Download and installation successful\u001b[0m\n",
      "You can now load the package via spacy.load('es_core_news_sm')\n"
     ]
    }
   ],
   "source": [
    "!python -m spacy download es_core_news_sm -q"
   ]
  },
  {
   "cell_type": "code",
   "execution_count": 1,
   "metadata": {},
   "outputs": [],
   "source": [
    "import spacy "
   ]
  },
  {
   "cell_type": "markdown",
   "metadata": {},
   "source": [
    "## esto es lo bueno\n",
    "\n",
    "python -m spacy download es_core_news_sm\n",
    "\n",
    "import spacy\n",
    "\n",
    "nlp = spacy.load(\"es_core_news_sm\")\n",
    "\n",
    "import es_core_news_sm\n",
    "\n",
    "nlp = es_core_news_sm.load()\n",
    "\n",
    "doc = nlp(\"Esto es una frase.\")\n",
    "\n",
    "print([(w.text, w.pos_) for w in doc])"
   ]
  },
  {
   "cell_type": "code",
   "execution_count": 2,
   "metadata": {},
   "outputs": [],
   "source": [
    "nlp = spacy.load(\"es_core_news_sm\")\n",
    "import es_core_news_sm\n",
    "nlp = es_core_news_sm.load()"
   ]
  },
  {
   "cell_type": "code",
   "execution_count": 3,
   "metadata": {},
   "outputs": [
    {
     "name": "stdout",
     "output_type": "stream",
     "text": [
      "[('Esto', 'PRON'), ('es', 'AUX'), ('una', 'DET'), ('frase', 'NOUN'), ('.', 'PUNCT')]\n"
     ]
    }
   ],
   "source": [
    "doc = nlp(\"Esto es una frase.\")\n",
    "print([(w.text, w.pos_) for w in doc])"
   ]
  },
  {
   "cell_type": "code",
   "execution_count": null,
   "metadata": {},
   "outputs": [],
   "source": []
  },
  {
   "cell_type": "code",
   "execution_count": 4,
   "metadata": {},
   "outputs": [
    {
     "name": "stdout",
     "output_type": "stream",
     "text": [
      "caminar -> caminar\n",
      "caminando -> caminar\n",
      "caminare -> caminare\n"
     ]
    }
   ],
   "source": [
    "\n",
    "\n",
    "# cargar modelo en español\n",
    "nlp= spacy.load('es_core_news_sm')\n",
    "\n",
    "# crear un documento\n",
    "doc=nlp('caminar caminando caminare')\n",
    "\n",
    "\n",
    "# imprimir el texto lematizado de cada tokens\n",
    "\n",
    "for token in doc:\n",
    "    print(token.text,'->', token.lemma_)\n",
    "\n",
    "\n"
   ]
  },
  {
   "cell_type": "code",
   "execution_count": null,
   "metadata": {},
   "outputs": [],
   "source": []
  }
 ],
 "metadata": {
  "kernelspec": {
   "display_name": ".venv",
   "language": "python",
   "name": "python3"
  },
  "language_info": {
   "codemirror_mode": {
    "name": "ipython",
    "version": 3
   },
   "file_extension": ".py",
   "mimetype": "text/x-python",
   "name": "python",
   "nbconvert_exporter": "python",
   "pygments_lexer": "ipython3",
   "version": "3.12.1"
  }
 },
 "nbformat": 4,
 "nbformat_minor": 2
}
